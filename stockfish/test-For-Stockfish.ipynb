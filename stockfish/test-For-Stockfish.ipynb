{
 "cells": [
  {
   "cell_type": "code",
   "execution_count": 42,
   "metadata": {},
   "outputs": [
    {
     "name": "stdout",
     "output_type": "stream",
     "text": [
      "Debug Log File \n",
      "Contempt 0\n",
      "Min Split Depth 0\n",
      "Ponder false\n",
      "MultiPV 1\n",
      "Skill Level 20\n",
      "Move Overhead 10\n",
      "Minimum Thinking Time 20\n",
      "Slow Mover 100\n",
      "UCI_Chess960 false\n",
      "UCI_LimitStrength false\n",
      "UCI_Elo 1350\n",
      "Threads 1\n",
      "Hash 16\n",
      "\n",
      "**************************************************\n",
      "\n",
      "**************************************************\n",
      "Best Move is 4 2 4 4\n"
     ]
    },
    {
     "data": {
      "text/plain": [
       "'rnbqkbnr/pppp1ppp/4p3/8/4P3/8/PPPP1PPP/RNBQKBNR w KQkq - 0 2'"
      ]
     },
     "execution_count": 42,
     "metadata": {},
     "output_type": "execute_result"
    }
   ],
   "source": [
    "from stockfish import Stockfish\n",
    "import stockfish\n",
    "\n",
    "stockfish = Stockfish(\"/usr/local/bin/stockfish\")\n",
    "\n",
    "alphabet = \"abcdefgh\"\n",
    "bestMove = stockfish.get_best_move()\n",
    "stockfish.set_fen_position(\"rnbqkbnr/pppp1ppp/4p3/8/4P3/8/PPPP1PPP/RNBQKBNR w KQkq - 0 2\")\n",
    "\n",
    "def playerMove(formerX, formerY, currentX, currentY):\n",
    "    stockfish.set_position([f\"${alphabet[formerX]}${formerY}${alphabet[currentX]}${currentY}\"])\n",
    "\n",
    "print(\"\\n\" + \"*\"*50)\n",
    "# print(stockfish.is_fen_valid(\"rnbqkbnr/pppppppp/8/8/8/8/PPPPPPPP/RNBQKBNR w KQkq - 0 1\"))\n",
    "print(\"\\n\" + \"*\"*50)\n",
    "\n",
    "# print(\"Best Move is\", alphabet.index(str(bestMove)[0]), str(bestMove)[1], alphabet.index(str(bestMove)[2]), str(bestMove)[3])\n",
    "\n",
    "print(\"Best Move is\", \n",
    "alphabet.index(str(bestMove)[0]),\n",
    "str(bestMove)[1],\n",
    "alphabet.index(str(bestMove)[2]), \n",
    "str(bestMove)[3])\n",
    "\n",
    "stockfish.get_fen_position()"
   ]
  },
  {
   "cell_type": "code",
   "execution_count": null,
   "metadata": {},
   "outputs": [],
   "source": []
  },
  {
   "cell_type": "code",
   "execution_count": null,
   "metadata": {},
   "outputs": [],
   "source": [
    "import sys, subprocess\n",
    "help(subprocess.Popen)"
   ]
  },
  {
   "cell_type": "code",
   "execution_count": 6,
   "metadata": {},
   "outputs": [
    {
     "data": {
      "text/plain": [
       "'/Users/gavin/Downloads/VSCode/Stockfish-TitanicProject'"
      ]
     },
     "execution_count": 6,
     "metadata": {},
     "output_type": "execute_result"
    }
   ],
   "source": [
    "import os\n",
    "os.chdir(\"..\")\n",
    "os.getcwd()"
   ]
  },
  {
   "cell_type": "code",
   "execution_count": 4,
   "metadata": {},
   "outputs": [
    {
     "data": {
      "text/plain": [
       "['/Users/gavin/Downloads/VSCode/Stockfish-TitanicProject/stockfish',\n",
       " '/Library/Frameworks/Python.framework/Versions/3.10/lib/python310.zip',\n",
       " '/Library/Frameworks/Python.framework/Versions/3.10/lib/python3.10',\n",
       " '/Library/Frameworks/Python.framework/Versions/3.10/lib/python3.10/lib-dynload',\n",
       " '',\n",
       " '/Users/gavin/Library/Python/3.10/lib/python/site-packages',\n",
       " '/Library/Frameworks/Python.framework/Versions/3.10/lib/python3.10/site-packages']"
      ]
     },
     "execution_count": 4,
     "metadata": {},
     "output_type": "execute_result"
    }
   ],
   "source": [
    "import sys\n",
    "sys.path"
   ]
  },
  {
   "cell_type": "code",
   "execution_count": null,
   "metadata": {},
   "outputs": [],
   "source": []
  }
 ],
 "metadata": {
  "kernelspec": {
   "display_name": "Python 3",
   "language": "python",
   "name": "python3"
  },
  "language_info": {
   "codemirror_mode": {
    "name": "ipython",
    "version": 3
   },
   "file_extension": ".py",
   "mimetype": "text/x-python",
   "name": "python",
   "nbconvert_exporter": "python",
   "pygments_lexer": "ipython3",
   "version": "3.10.6"
  },
  "orig_nbformat": 4
 },
 "nbformat": 4,
 "nbformat_minor": 2
}
