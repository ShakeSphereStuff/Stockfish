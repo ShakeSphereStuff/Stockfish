{
 "cells": [
  {
   "cell_type": "code",
   "execution_count": 6,
   "metadata": {},
   "outputs": [
    {
     "name": "stdout",
     "output_type": "stream",
     "text": [
      "{'Debug Log File': '', 'Contempt': 0, 'Min Split Depth': 0, 'Ponder': 'false', 'MultiPV': 1, 'Skill Level': 20, 'Move Overhead': 10, 'Minimum Thinking Time': 20, 'Slow Mover': 100, 'UCI_Chess960': 'false', 'UCI_LimitStrength': 'false', 'UCI_Elo': 1350, 'Threads': 1, 'Hash': 16}\n",
      "g1f3\n"
     ]
    }
   ],
   "source": [
    "from stockfish import Stockfish\n",
    "import stockfish\n",
    "\n",
    "stockfish = Stockfish(\"/usr/local/bin/stockfish\")\n",
    "\n",
    "stockfish.set_position([\"e2e4\", \"c7c5\"])\n",
    "print(stockfish.get_parameters())\n",
    "\n",
    "print(stockfish.get_best_move())"
   ]
  },
  {
   "cell_type": "code",
   "execution_count": 4,
   "metadata": {},
   "outputs": [
    {
     "name": "stdout",
     "output_type": "stream",
     "text": [
      "Checking Side [{'Move': 'd2d4', 'Centipawn': 37, 'Mate': None}, {'Move': 'b1c3', 'Centipawn': 27, 'Mate': None}, {'Move': 'c2c3', 'Centipawn': 24, 'Mate': None}]\n",
      "Inputing ['d1d3']\n",
      "['d7d5']\n",
      "\n",
      "**************************************************\n",
      "Inputing ['b1b2']\n",
      "['d5e4']\n",
      "\n",
      "**************************************************\n",
      "Inputing ['b0c2']\n",
      "['f7f5']\n",
      "\n",
      "**************************************************\n",
      "Inputing ['g0f2']\n",
      "['e4f3']\n",
      "\n",
      "**************************************************\n"
     ]
    },
    {
     "data": {
      "text/plain": [
       "'rnbqkbnr/ppp3pp/4p3/5p2/3P4/1PN2p2/P1P2PPP/R1BQKB1R w KQkq - 0 6'"
      ]
     },
     "execution_count": 4,
     "metadata": {},
     "output_type": "execute_result"
    }
   ],
   "source": [
    "from stockfish import Stockfish\n",
    "import stockfish\n",
    "import chess\n",
    "\n",
    "stockfish = Stockfish(\"/usr/local/bin/stockfish\")\n",
    "\n",
    "alphabet = \"abcdefgh\"\n",
    "stockfish.set_fen_position(\"rnbqkbnr/pppp1ppp/4p3/8/4P3/8/PPPP1PPP/RNBQKBNR w KQkq - 0 2\")\n",
    "\n",
    "def playerMove(formerX, formerY, currentX, currentY):\n",
    "    stockfish.make_moves_from_current_position([f\"{alphabet[formerX]}{formerY}{alphabet[currentX]}{currentY}\"])\n",
    "    print(\"Inputing\", [f\"{alphabet[formerX]}{formerY - 1}{alphabet[currentX]}{currentY - 1}\"])\n",
    "    bestMove = stockfish.get_best_move()\n",
    "    print([f\"{bestMove}\"])\n",
    "    stockfish.make_moves_from_current_position([f\"{bestMove}\"])\n",
    "    print(\"\\n\" + \"*\"*50)\n",
    "\n",
    "print(\"Checking Side\", stockfish.get_top_moves(3))\n",
    "\n",
    "playerMove(3, 2, 3, 4)\n",
    "playerMove(1, 2, 1, 3)\n",
    "playerMove(1, 1, 2, 3)\n",
    "playerMove(6, 1, 5, 3)\n",
    "\n",
    "stockfish.get_fen_position()"
   ]
  },
  {
   "cell_type": "code",
   "execution_count": null,
   "metadata": {},
   "outputs": [],
   "source": []
  },
  {
   "cell_type": "code",
   "execution_count": null,
   "metadata": {},
   "outputs": [],
   "source": [
    "import sys, subprocess\n",
    "help(subprocess.Popen)"
   ]
  },
  {
   "cell_type": "code",
   "execution_count": 6,
   "metadata": {},
   "outputs": [
    {
     "data": {
      "text/plain": [
       "'/Users/gavin/Downloads/VSCode/Stockfish-TitanicProject'"
      ]
     },
     "execution_count": 6,
     "metadata": {},
     "output_type": "execute_result"
    }
   ],
   "source": [
    "import os\n",
    "os.chdir(\"..\")\n",
    "os.getcwd()"
   ]
  },
  {
   "cell_type": "code",
   "execution_count": 4,
   "metadata": {},
   "outputs": [
    {
     "data": {
      "text/plain": [
       "['/Users/gavin/Downloads/VSCode/Stockfish-TitanicProject/stockfish',\n",
       " '/Library/Frameworks/Python.framework/Versions/3.10/lib/python310.zip',\n",
       " '/Library/Frameworks/Python.framework/Versions/3.10/lib/python3.10',\n",
       " '/Library/Frameworks/Python.framework/Versions/3.10/lib/python3.10/lib-dynload',\n",
       " '',\n",
       " '/Users/gavin/Library/Python/3.10/lib/python/site-packages',\n",
       " '/Library/Frameworks/Python.framework/Versions/3.10/lib/python3.10/site-packages']"
      ]
     },
     "execution_count": 4,
     "metadata": {},
     "output_type": "execute_result"
    }
   ],
   "source": [
    "import sys\n",
    "sys.path"
   ]
  },
  {
   "cell_type": "code",
   "execution_count": null,
   "metadata": {},
   "outputs": [],
   "source": []
  }
 ],
 "metadata": {
  "kernelspec": {
   "display_name": "Python 3",
   "language": "python",
   "name": "python3"
  },
  "language_info": {
   "codemirror_mode": {
    "name": "ipython",
    "version": 3
   },
   "file_extension": ".py",
   "mimetype": "text/x-python",
   "name": "python",
   "nbconvert_exporter": "python",
   "pygments_lexer": "ipython3",
   "version": "3.10.6"
  },
  "orig_nbformat": 4
 },
 "nbformat": 4,
 "nbformat_minor": 2
}
